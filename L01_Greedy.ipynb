{
  "nbformat": 4,
  "nbformat_minor": 0,
  "metadata": {
    "colab": {
      "name": "L01: Greedy.ipynb",
      "provenance": [],
      "include_colab_link": true
    },
    "kernelspec": {
      "name": "python3",
      "display_name": "Python 3"
    }
  },
  "cells": [
    {
      "cell_type": "markdown",
      "metadata": {
        "id": "view-in-github",
        "colab_type": "text"
      },
      "source": [
        "<a href=\"https://colab.research.google.com/github/Mahmoud-Leghlimi/Coding-Practice/blob/main/L01_Greedy.ipynb\" target=\"_parent\"><img src=\"https://colab.research.google.com/assets/colab-badge.svg\" alt=\"Open In Colab\"/></a>"
      ]
    },
    {
      "cell_type": "markdown",
      "metadata": {
        "id": "Ws6rXa1xv_gv"
      },
      "source": [
        "# [L01: Implementing Greedy TSP](https://docs.google.com/document/d/1JA_CWBXPN6whvJAemnJLvtYJ3Pbk84dTUolWO_QqosA/edit?usp=sharing)\n",
        "Written by Dr. Jan Pearce, Berea College\n",
        "\n",
        "Complete the code by meeting all linked requirements and fixing all FIXMEs\n",
        "\n",
        "## Your Name: FIXME"
      ]
    },
    {
      "cell_type": "markdown",
      "metadata": {
        "id": "PvEpt0HPKq9X"
      },
      "source": [
        "**SUMMARY**: A brief summary description of the design and implementation, including how much your initial design plan evolved, the final result you achieved and the amount of time you spent as a programmer or programmers in accomplishing these results. This should be no more than two paragraphs.\n",
        "\n",
        "The goal of this project was to design and implement a program that solves the Travelling Salesperson Problem using a greedy algorithm. The initial design involved parsing node coordinates from an input file, computing distances, and then visiting the nearest unvisited node until all nodes were visited. As implementation progressed, the design evolved to incorporate structured methods for building the graph, storing coordinates, and visualizing the final route using NetworkX and Matplotlib.\n",
        "\n",
        "**PERSONNEL**: A description of who you worked with and on what sections.  It is expected that all collaboration is done as pair programming together. Also, note these collaborations in the code section itself.\n",
        "\n",
        "For this project, I completed all sections independently, including data extraction, coordinate setup, and implementing the greedy TSP algorithm, with guidance and help from Imran. I also received assistance from ChatGPT in clarifying concepts, debugging code, and refining functions throughout the development process.\n",
        "\n",
        "**CHALLENGES**: Descriptions of the largest challenges you overcame and what made them challenging.\n",
        "\n",
        "The largest challenge in this project was understanding both the problem and the existing code structure. The TSP algorithm involves several interconnected components, including data extraction, coordinate setup, and implementing the greedy approach, which made it difficult to trace how each part affected the overall solution. Figuring out the correct way to handle the input data, store coordinates, and ensure the algorithm produced the correct route required careful analysis and debugging, which was initially challenging but ultimately helped me develop a deeper understanding of the code and the problem.\n",
        "\n",
        "**INNOVATIONS**: Any innovations that were not specifically required by the assignment. These are not required, but should be highlighted if included.\n",
        "\n",
        "FIXME\n",
        "\n",
        "**TESTING**: Describe how you tested this work.\n",
        "\n",
        "I tested it mainly using print.\n",
        "\n",
        "**ERRORS**: A list in bulleted form of all known errors and deficiencies.\n",
        "\n",
        "The main errors I got were saying that I didn't have networkx because I was using VS Code.\n",
        "\n",
        "**COMMENTS**: A paragraph or so of your own comments on and reactions to the Lab.\n",
        "\n"
      ]
    },
    {
      "cell_type": "markdown",
      "metadata": {
        "id": "lRXe-Atyv30H"
      },
      "source": [
        "## Import Libraries"
      ]
    },
    {
      "cell_type": "code",
      "metadata": {
        "id": "b6koAGG2mhix"
      },
      "source": [
        "import networkx as nx\n",
        "import matplotlib.pyplot as plt\n",
        "import math\n",
        "from urllib.request import urlopen"
      ],
      "execution_count": 20,
      "outputs": []
    },
    {
      "cell_type": "markdown",
      "metadata": {
        "id": "y-JqngNLmhVG"
      },
      "source": [
        "### Read data"
      ]
    },
    {
      "cell_type": "code",
      "metadata": {
        "id": "GzeEKA-nwLsJ",
        "outputId": "420ee171-07e9-407e-a6de-0f86bfe05f92",
        "colab": {
          "base_uri": "https://localhost:8080/"
        }
      },
      "source": [
        "tspdata = urlopen(\"http://cs.berea.edu/courses/csc445/data/tsp-small.txt\").read().decode('ASCII')\n",
        "print(tspdata)"
      ],
      "execution_count": 21,
      "outputs": [
        {
          "output_type": "stream",
          "name": "stdout",
          "text": [
            "6\r\n",
            "1 5 \r\n",
            "3 7 \r\n",
            "5 11 \r\n",
            "3 5 \r\n",
            "5 7 \r\n",
            "7 9 \r\n",
            "\n"
          ]
        }
      ]
    },
    {
      "cell_type": "markdown",
      "metadata": {
        "id": "qGcB5022KlHL"
      },
      "source": [
        "## TSP Class"
      ]
    },
    {
      "cell_type": "code",
      "metadata": {
        "id": "KIzVOICElISX",
        "outputId": "d823bddd-c688-4816-e24c-6c906ba74f95",
        "colab": {
          "base_uri": "https://localhost:8080/",
          "height": 356
        }
      },
      "source": [
        "\"\"\"\n",
        "\n",
        "Given certain input, it uses the greedy algorithm to plot a graph and output a file of the solution path\n",
        "\"\"\"\n",
        "\n",
        "class TSP:\n",
        "\n",
        "    def __init__(self):\n",
        "        \"\"\" TSP class containing data needed for networkx graph creation, file reading and file writing.\n",
        "            Creates a graph for the traveling salesperon problem using the greedy algorithm\n",
        "        \"\"\"\n",
        "\n",
        "        self.dimension = None\n",
        "        self.nodeData = []\n",
        "        self.graph = nx.DiGraph()\n",
        "        self.coords = {}\n",
        "        self.places = []\n",
        "        self.route = []\n",
        "\n",
        "    def extractData(self, inputFile=\"\"):\n",
        "        \"\"\"\n",
        "        Itterate through the input file and append each coordinate into the node list.\n",
        "        Keyword Arguments:\n",
        "            inputFile {str} -- a string for the file name (default: {\"\"})\n",
        "        \"\"\"\n",
        "        Coord_lines = inputFile.strip().split(\"\\n\")\n",
        "        for line in Coord_lines:\n",
        "          self.nodeData.append(line.split())\n",
        "        del self.nodeData[0]\n",
        "        self.dimension = int(self.nodeData[0][0])\n",
        "        print(self.nodeData)\n",
        "\n",
        "    def setUpCoords(self):\n",
        "        \"\"\" Puts the coordinates for each node into a dictionary as a tuple with the node as the key \"\"\"\n",
        "        for node in self.nodeData:  # skip the first element\n",
        "          key = node[0]\n",
        "          value = int(node[1])  # convert to int, or float(node[1]) if needed\n",
        "\n",
        "          if key in self.coords:\n",
        "              # if key repeats, append to a list\n",
        "              if isinstance(self.coords[key], list):\n",
        "                  self.coords[key].append(float(value))\n",
        "              else:\n",
        "                  self.coords[key] = [self.coords[key], float(value)]\n",
        "          else:\n",
        "              self.coords[key] = float(value)\n",
        "\n",
        "        print(self.coords)\n",
        "\n",
        "    def calculateDistance(self, a, b):\n",
        "        \"\"\"calculates & returns the distance between points a and b\n",
        "        Arguments:\n",
        "            a {[tuple]} -- tuple of numbers for the x and y coordinate of a node\n",
        "            b {[tuple]} -- tuple of numbers for the x and y coordinate of a node\n",
        "        Returns:\n",
        "            [float] -- the distance between the two points using the distance formula\n",
        "        \"\"\"\n",
        "        x1, y1 = a\n",
        "        x2, y2 = b\n",
        "        return ((x1 - x2)**2 + (y1 - y2)**2) ** 0.5\n",
        "\n",
        "    def getRoute(self, current, visits=[], nVisits=[], needList=True):\n",
        "        \"\"\"Makes a list of the nodes to be visited, in order, according to the greedy alogorithm for the TSP\n",
        "        Arguments:\n",
        "            current {int} -- the node to start at, not a list index\n",
        "        Keyword Arguments:\n",
        "            visits {list} -- list of places already visited (default: {[]})\n",
        "            nVisits {list} -- list of places not visited (default: {[]})\n",
        "            needList {bool} -- boolean deciding if the list of places not visited needs to be filled (default: {True})\n",
        "        \"\"\"\n",
        "        if visits is None:\n",
        "          visits = []\n",
        "        if nVisits is None or needList:\n",
        "          nVisits = self.listPlaces()\n",
        "\n",
        "        visits.append(current)\n",
        "        nVisits = [str(node) for node in self.listPlaces()]\n",
        "        current = str(current)\n",
        "\n",
        "        while nVisits:\n",
        "        # Find the nearest neighbor to current\n",
        "          closest = min(nVisits, key=lambda node: self.calculateDistance(self.coords[current], self.coords[node]))\n",
        "          visits.append(closest)\n",
        "          nVisits.remove(closest)\n",
        "          current = closest\n",
        "\n",
        "        return visits\n",
        "\n",
        "    def beGreedy(self, start):\n",
        "        \"\"\" puts together the greedy algorithm. Gets the route order and adds the starting place to the end of the route\n",
        "        Arguments:\n",
        "            start -- the starting node for the greedy algorithm\n",
        "        \"\"\"\n",
        "        self.route = self.getRoute(current=start)\n",
        "\n",
        "        self.route.append(start)\n",
        "        print(\"Greedy route:\", self.route)\n",
        "\n",
        "    def listPlaces(self):\n",
        "        \"\"\"makes a list of all the nodes/places from the dictionary\n",
        "        Returns:\n",
        "            [list] -- list of all the nodes/places\n",
        "        \"\"\"\n",
        "        return list(self.coords.keys())\n",
        "\n",
        "    def cleanUpList(self, visited, notVisited):\n",
        "        \"\"\"removes items in visited from notVisited\n",
        "        Arguments:\n",
        "            visited {list}\n",
        "            notVisited {list}\n",
        "        Returns:\n",
        "            [list] -- a list of notVisited - visited\n",
        "        \"\"\"\n",
        "\n",
        "        for item in visited:\n",
        "            if item in notVisited:\n",
        "                notVisited.remove(item)\n",
        "        return notVisited\n",
        "\n",
        "    def addNodes(self):\n",
        "        \"\"\" adds nodes to the networkx graph\n",
        "        \"\"\"\n",
        "\n",
        "        for everything in self.nodeData:\n",
        "            node = everything[0]\n",
        "            self.graph.add_node(node, pos=self.coords[node])\n",
        "\n",
        "    def addEdges(self):\n",
        "        \"\"\"Adds graphs to the networkx graph\n",
        "        \"\"\"\n",
        "        pass\n",
        "        x = 0\n",
        "        while x < len(self.route)-1:\n",
        "            self.graph.add_edge(self.route[x], self.route[x+1],\n",
        "                                weight=self.calculateDistance(self.coords[self.route[x]], self.coords[self.route[x+1]]))\n",
        "            x += 1\n",
        "\n",
        "    def showGraph(self):\n",
        "        \"\"\"Uses the imported libraries to display the graph\n",
        "        \"\"\"\n",
        "        # get labels and coordinates for the graph\n",
        "        coords = nx.get_node_attributes(self.graph, 'pos')\n",
        "        labels = nx.get_edge_attributes(self.graph, 'weight')\n",
        "        # draw nodes in their coordinates\n",
        "        nx.draw(self.graph, coords)\n",
        "        nx.draw_networkx_labels(self.graph, coords)\n",
        "        # draw edges with their weights\n",
        "        nx.draw_networkx_edge_labels(self.graph, coords, edge_labels=labels)\n",
        "        plt.show()\n",
        "\n",
        "\n",
        "\n",
        "\n",
        "def main():\n",
        "    tsp = TSP()\n",
        "    tspdata = urlopen(\"http://cs.berea.edu/courses/csc445/data/tsp-small.txt\").read().decode('ASCII')\n",
        "    tsp.extractData(tspdata)\n",
        "    tsp.setUpCoords()\n",
        "    tsp.addNodes()\n",
        "    tsp.beGreedy(1)\n",
        "    tsp.addEdges()\n",
        "    tsp.showGraph()\n",
        "\n",
        "\n",
        "main()"
      ],
      "execution_count": 49,
      "outputs": [
        {
          "output_type": "stream",
          "name": "stdout",
          "text": [
            "[['1', '5'], ['3', '7'], ['5', '11'], ['3', '5'], ['5', '7'], ['7', '9']]\n",
            "{'1': 5.0, '3': [7.0, 5.0], '5': [11.0, 7.0], '7': 9.0}\n"
          ]
        },
        {
          "output_type": "error",
          "ename": "TypeError",
          "evalue": "cannot unpack non-iterable float object",
          "traceback": [
            "\u001b[0;31m---------------------------------------------------------------------------\u001b[0m",
            "\u001b[0;31mTypeError\u001b[0m                                 Traceback (most recent call last)",
            "\u001b[0;32m/tmp/ipython-input-3388727761.py\u001b[0m in \u001b[0;36m<cell line: 0>\u001b[0;34m()\u001b[0m\n\u001b[1;32m    163\u001b[0m \u001b[0;34m\u001b[0m\u001b[0m\n\u001b[1;32m    164\u001b[0m \u001b[0;34m\u001b[0m\u001b[0m\n\u001b[0;32m--> 165\u001b[0;31m \u001b[0mmain\u001b[0m\u001b[0;34m(\u001b[0m\u001b[0;34m)\u001b[0m\u001b[0;34m\u001b[0m\u001b[0;34m\u001b[0m\u001b[0m\n\u001b[0m",
            "\u001b[0;32m/tmp/ipython-input-3388727761.py\u001b[0m in \u001b[0;36mmain\u001b[0;34m()\u001b[0m\n\u001b[1;32m    158\u001b[0m     \u001b[0mtsp\u001b[0m\u001b[0;34m.\u001b[0m\u001b[0msetUpCoords\u001b[0m\u001b[0;34m(\u001b[0m\u001b[0;34m)\u001b[0m\u001b[0;34m\u001b[0m\u001b[0;34m\u001b[0m\u001b[0m\n\u001b[1;32m    159\u001b[0m     \u001b[0mtsp\u001b[0m\u001b[0;34m.\u001b[0m\u001b[0maddNodes\u001b[0m\u001b[0;34m(\u001b[0m\u001b[0;34m)\u001b[0m\u001b[0;34m\u001b[0m\u001b[0;34m\u001b[0m\u001b[0m\n\u001b[0;32m--> 160\u001b[0;31m     \u001b[0mtsp\u001b[0m\u001b[0;34m.\u001b[0m\u001b[0mbeGreedy\u001b[0m\u001b[0;34m(\u001b[0m\u001b[0;36m1\u001b[0m\u001b[0;34m)\u001b[0m\u001b[0;34m\u001b[0m\u001b[0;34m\u001b[0m\u001b[0m\n\u001b[0m\u001b[1;32m    161\u001b[0m     \u001b[0mtsp\u001b[0m\u001b[0;34m.\u001b[0m\u001b[0maddEdges\u001b[0m\u001b[0;34m(\u001b[0m\u001b[0;34m)\u001b[0m\u001b[0;34m\u001b[0m\u001b[0;34m\u001b[0m\u001b[0m\n\u001b[1;32m    162\u001b[0m     \u001b[0mtsp\u001b[0m\u001b[0;34m.\u001b[0m\u001b[0mshowGraph\u001b[0m\u001b[0;34m(\u001b[0m\u001b[0;34m)\u001b[0m\u001b[0;34m\u001b[0m\u001b[0;34m\u001b[0m\u001b[0m\n",
            "\u001b[0;32m/tmp/ipython-input-3388727761.py\u001b[0m in \u001b[0;36mbeGreedy\u001b[0;34m(self, start)\u001b[0m\n\u001b[1;32m     92\u001b[0m             \u001b[0mstart\u001b[0m \u001b[0;34m-\u001b[0m\u001b[0;34m-\u001b[0m \u001b[0mthe\u001b[0m \u001b[0mstarting\u001b[0m \u001b[0mnode\u001b[0m \u001b[0;32mfor\u001b[0m \u001b[0mthe\u001b[0m \u001b[0mgreedy\u001b[0m \u001b[0malgorithm\u001b[0m\u001b[0;34m\u001b[0m\u001b[0;34m\u001b[0m\u001b[0m\n\u001b[1;32m     93\u001b[0m         \"\"\"\n\u001b[0;32m---> 94\u001b[0;31m         \u001b[0mself\u001b[0m\u001b[0;34m.\u001b[0m\u001b[0mroute\u001b[0m \u001b[0;34m=\u001b[0m \u001b[0mself\u001b[0m\u001b[0;34m.\u001b[0m\u001b[0mgetRoute\u001b[0m\u001b[0;34m(\u001b[0m\u001b[0mcurrent\u001b[0m\u001b[0;34m=\u001b[0m\u001b[0mstart\u001b[0m\u001b[0;34m)\u001b[0m\u001b[0;34m\u001b[0m\u001b[0;34m\u001b[0m\u001b[0m\n\u001b[0m\u001b[1;32m     95\u001b[0m \u001b[0;34m\u001b[0m\u001b[0m\n\u001b[1;32m     96\u001b[0m         \u001b[0mself\u001b[0m\u001b[0;34m.\u001b[0m\u001b[0mroute\u001b[0m\u001b[0;34m.\u001b[0m\u001b[0mappend\u001b[0m\u001b[0;34m(\u001b[0m\u001b[0mstart\u001b[0m\u001b[0;34m)\u001b[0m\u001b[0;34m\u001b[0m\u001b[0;34m\u001b[0m\u001b[0m\n",
            "\u001b[0;32m/tmp/ipython-input-3388727761.py\u001b[0m in \u001b[0;36mgetRoute\u001b[0;34m(self, current, visits, nVisits, needList)\u001b[0m\n\u001b[1;32m     80\u001b[0m         \u001b[0;32mwhile\u001b[0m \u001b[0mnVisits\u001b[0m\u001b[0;34m:\u001b[0m\u001b[0;34m\u001b[0m\u001b[0;34m\u001b[0m\u001b[0m\n\u001b[1;32m     81\u001b[0m         \u001b[0;31m# Find the nearest neighbor to current\u001b[0m\u001b[0;34m\u001b[0m\u001b[0;34m\u001b[0m\u001b[0m\n\u001b[0;32m---> 82\u001b[0;31m           \u001b[0mclosest\u001b[0m \u001b[0;34m=\u001b[0m \u001b[0mmin\u001b[0m\u001b[0;34m(\u001b[0m\u001b[0mnVisits\u001b[0m\u001b[0;34m,\u001b[0m \u001b[0mkey\u001b[0m\u001b[0;34m=\u001b[0m\u001b[0;32mlambda\u001b[0m \u001b[0mnode\u001b[0m\u001b[0;34m:\u001b[0m \u001b[0mself\u001b[0m\u001b[0;34m.\u001b[0m\u001b[0mcalculateDistance\u001b[0m\u001b[0;34m(\u001b[0m\u001b[0mself\u001b[0m\u001b[0;34m.\u001b[0m\u001b[0mcoords\u001b[0m\u001b[0;34m[\u001b[0m\u001b[0mcurrent\u001b[0m\u001b[0;34m]\u001b[0m\u001b[0;34m,\u001b[0m \u001b[0mself\u001b[0m\u001b[0;34m.\u001b[0m\u001b[0mcoords\u001b[0m\u001b[0;34m[\u001b[0m\u001b[0mnode\u001b[0m\u001b[0;34m]\u001b[0m\u001b[0;34m)\u001b[0m\u001b[0;34m)\u001b[0m\u001b[0;34m\u001b[0m\u001b[0;34m\u001b[0m\u001b[0m\n\u001b[0m\u001b[1;32m     83\u001b[0m           \u001b[0mvisits\u001b[0m\u001b[0;34m.\u001b[0m\u001b[0mappend\u001b[0m\u001b[0;34m(\u001b[0m\u001b[0mclosest\u001b[0m\u001b[0;34m)\u001b[0m\u001b[0;34m\u001b[0m\u001b[0;34m\u001b[0m\u001b[0m\n\u001b[1;32m     84\u001b[0m           \u001b[0mnVisits\u001b[0m\u001b[0;34m.\u001b[0m\u001b[0mremove\u001b[0m\u001b[0;34m(\u001b[0m\u001b[0mclosest\u001b[0m\u001b[0;34m)\u001b[0m\u001b[0;34m\u001b[0m\u001b[0;34m\u001b[0m\u001b[0m\n",
            "\u001b[0;32m/tmp/ipython-input-3388727761.py\u001b[0m in \u001b[0;36m<lambda>\u001b[0;34m(node)\u001b[0m\n\u001b[1;32m     80\u001b[0m         \u001b[0;32mwhile\u001b[0m \u001b[0mnVisits\u001b[0m\u001b[0;34m:\u001b[0m\u001b[0;34m\u001b[0m\u001b[0;34m\u001b[0m\u001b[0m\n\u001b[1;32m     81\u001b[0m         \u001b[0;31m# Find the nearest neighbor to current\u001b[0m\u001b[0;34m\u001b[0m\u001b[0;34m\u001b[0m\u001b[0m\n\u001b[0;32m---> 82\u001b[0;31m           \u001b[0mclosest\u001b[0m \u001b[0;34m=\u001b[0m \u001b[0mmin\u001b[0m\u001b[0;34m(\u001b[0m\u001b[0mnVisits\u001b[0m\u001b[0;34m,\u001b[0m \u001b[0mkey\u001b[0m\u001b[0;34m=\u001b[0m\u001b[0;32mlambda\u001b[0m \u001b[0mnode\u001b[0m\u001b[0;34m:\u001b[0m \u001b[0mself\u001b[0m\u001b[0;34m.\u001b[0m\u001b[0mcalculateDistance\u001b[0m\u001b[0;34m(\u001b[0m\u001b[0mself\u001b[0m\u001b[0;34m.\u001b[0m\u001b[0mcoords\u001b[0m\u001b[0;34m[\u001b[0m\u001b[0mcurrent\u001b[0m\u001b[0;34m]\u001b[0m\u001b[0;34m,\u001b[0m \u001b[0mself\u001b[0m\u001b[0;34m.\u001b[0m\u001b[0mcoords\u001b[0m\u001b[0;34m[\u001b[0m\u001b[0mnode\u001b[0m\u001b[0;34m]\u001b[0m\u001b[0;34m)\u001b[0m\u001b[0;34m)\u001b[0m\u001b[0;34m\u001b[0m\u001b[0;34m\u001b[0m\u001b[0m\n\u001b[0m\u001b[1;32m     83\u001b[0m           \u001b[0mvisits\u001b[0m\u001b[0;34m.\u001b[0m\u001b[0mappend\u001b[0m\u001b[0;34m(\u001b[0m\u001b[0mclosest\u001b[0m\u001b[0;34m)\u001b[0m\u001b[0;34m\u001b[0m\u001b[0;34m\u001b[0m\u001b[0m\n\u001b[1;32m     84\u001b[0m           \u001b[0mnVisits\u001b[0m\u001b[0;34m.\u001b[0m\u001b[0mremove\u001b[0m\u001b[0;34m(\u001b[0m\u001b[0mclosest\u001b[0m\u001b[0;34m)\u001b[0m\u001b[0;34m\u001b[0m\u001b[0;34m\u001b[0m\u001b[0m\n",
            "\u001b[0;32m/tmp/ipython-input-3388727761.py\u001b[0m in \u001b[0;36mcalculateDistance\u001b[0;34m(self, a, b)\u001b[0m\n\u001b[1;32m     56\u001b[0m             \u001b[0;34m[\u001b[0m\u001b[0mfloat\u001b[0m\u001b[0;34m]\u001b[0m \u001b[0;34m-\u001b[0m\u001b[0;34m-\u001b[0m \u001b[0mthe\u001b[0m \u001b[0mdistance\u001b[0m \u001b[0mbetween\u001b[0m \u001b[0mthe\u001b[0m \u001b[0mtwo\u001b[0m \u001b[0mpoints\u001b[0m \u001b[0musing\u001b[0m \u001b[0mthe\u001b[0m \u001b[0mdistance\u001b[0m \u001b[0mformula\u001b[0m\u001b[0;34m\u001b[0m\u001b[0;34m\u001b[0m\u001b[0m\n\u001b[1;32m     57\u001b[0m         \"\"\"\n\u001b[0;32m---> 58\u001b[0;31m         \u001b[0mx1\u001b[0m\u001b[0;34m,\u001b[0m \u001b[0my1\u001b[0m \u001b[0;34m=\u001b[0m \u001b[0ma\u001b[0m\u001b[0;34m\u001b[0m\u001b[0;34m\u001b[0m\u001b[0m\n\u001b[0m\u001b[1;32m     59\u001b[0m         \u001b[0mx2\u001b[0m\u001b[0;34m,\u001b[0m \u001b[0my2\u001b[0m \u001b[0;34m=\u001b[0m \u001b[0mb\u001b[0m\u001b[0;34m\u001b[0m\u001b[0;34m\u001b[0m\u001b[0m\n\u001b[1;32m     60\u001b[0m         \u001b[0;32mreturn\u001b[0m \u001b[0;34m(\u001b[0m\u001b[0;34m(\u001b[0m\u001b[0mx1\u001b[0m \u001b[0;34m-\u001b[0m \u001b[0mx2\u001b[0m\u001b[0;34m)\u001b[0m\u001b[0;34m**\u001b[0m\u001b[0;36m2\u001b[0m \u001b[0;34m+\u001b[0m \u001b[0;34m(\u001b[0m\u001b[0my1\u001b[0m \u001b[0;34m-\u001b[0m \u001b[0my2\u001b[0m\u001b[0;34m)\u001b[0m\u001b[0;34m**\u001b[0m\u001b[0;36m2\u001b[0m\u001b[0;34m)\u001b[0m \u001b[0;34m**\u001b[0m \u001b[0;36m0.5\u001b[0m\u001b[0;34m\u001b[0m\u001b[0;34m\u001b[0m\u001b[0m\n",
            "\u001b[0;31mTypeError\u001b[0m: cannot unpack non-iterable float object"
          ]
        }
      ]
    },
    {
      "cell_type": "markdown",
      "metadata": {
        "id": "-6HarsXemeKP"
      },
      "source": []
    }
  ]
}